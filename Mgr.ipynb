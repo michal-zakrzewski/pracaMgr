{
  "nbformat": 4,
  "nbformat_minor": 0,
  "metadata": {
    "colab": {
      "name": "Mgr.ipynb",
      "provenance": [],
      "collapsed_sections": [],
      "include_colab_link": true
    },
    "kernelspec": {
      "name": "python3",
      "display_name": "Python 3"
    },
    "accelerator": "GPU"
  },
  "cells": [
    {
      "cell_type": "markdown",
      "metadata": {
        "id": "view-in-github",
        "colab_type": "text"
      },
      "source": [
        "<a href=\"https://colab.research.google.com/github/zakrzewki/pracaMgr/blob/master/Mgr.ipynb\" target=\"_parent\"><img src=\"https://colab.research.google.com/assets/colab-badge.svg\" alt=\"Open In Colab\"/></a>"
      ]
    },
    {
      "cell_type": "markdown",
      "metadata": {
        "id": "8PnUCq9uBE11",
        "colab_type": "text"
      },
      "source": [
        "First of all, take fresh data from repo"
      ]
    },
    {
      "cell_type": "markdown",
      "metadata": {
        "id": "sXW6UfqiCekO",
        "colab_type": "text"
      },
      "source": [
        "**Connect to Google Drive**"
      ]
    },
    {
      "cell_type": "code",
      "metadata": {
        "id": "nINC164BIfbd",
        "colab_type": "code",
        "colab": {}
      },
      "source": [
        "# Run this cell to mount your Google Drive.\n",
        "from google.colab import drive\n",
        "drive.mount('/content/drive', force_remount=True)"
      ],
      "execution_count": 0,
      "outputs": []
    },
    {
      "cell_type": "code",
      "metadata": {
        "id": "ArDEjtRbXsuH",
        "colab_type": "code",
        "colab": {}
      },
      "source": [
        "!git clone"
      ],
      "execution_count": 0,
      "outputs": []
    },
    {
      "cell_type": "markdown",
      "metadata": {
        "id": "GQoduFgAeIb0",
        "colab_type": "text"
      },
      "source": [
        "Fast checker if connection and exporting files to Google Drive are working correctly"
      ]
    },
    {
      "cell_type": "code",
      "metadata": {
        "id": "fccptudEN5ya",
        "colab_type": "code",
        "colab": {}
      },
      "source": [
        "!python3 /content/pracaMgr/GoogleDriveChecker.py"
      ],
      "execution_count": 0,
      "outputs": []
    },
    {
      "cell_type": "markdown",
      "metadata": {
        "id": "ztHQtSXeBJjY",
        "colab_type": "text"
      },
      "source": [
        "**Downgrade keras** (`train_frcnn.py` throws error when it's 2.2.4 version)"
      ]
    },
    {
      "cell_type": "code",
      "metadata": {
        "id": "0BvRNAzBXbov",
        "colab_type": "code",
        "colab": {}
      },
      "source": [
        "!pip install keras==2.1.6"
      ],
      "execution_count": 0,
      "outputs": []
    },
    {
      "cell_type": "markdown",
      "metadata": {
        "id": "jYAe_mpQBMTv",
        "colab_type": "text"
      },
      "source": [
        "**Create a connection with Kaggle DB for downloading data**"
      ]
    },
    {
      "cell_type": "code",
      "metadata": {
        "id": "fIRLDHJy8itO",
        "colab_type": "code",
        "colab": {}
      },
      "source": [
        "!kaggle config set -n path -v{/content}"
      ],
      "execution_count": 0,
      "outputs": []
    },
    {
      "cell_type": "code",
      "metadata": {
        "id": "TLOEGqA-iTL3",
        "colab_type": "code",
        "colab": {}
      },
      "source": [
        "!mkdir /content/.kaggle"
      ],
      "execution_count": 0,
      "outputs": []
    },
    {
      "cell_type": "code",
      "metadata": {
        "id": "JHcmirfoXJkt",
        "colab_type": "code",
        "colab": {}
      },
      "source": [
        "import json\n",
        "\n",
        "token = {\"username\":\"TOKEN\",\"key\":\"KEY\"}\n",
        "\n",
        "with open('/content/.kaggle/kaggle.json', 'w') as file:\n",
        "    json.dump(token, file)"
      ],
      "execution_count": 0,
      "outputs": []
    },
    {
      "cell_type": "code",
      "metadata": {
        "id": "G_i8_ipLXL3B",
        "colab_type": "code",
        "colab": {}
      },
      "source": [
        "!cp /content/.kaggle/kaggle.json ~/.kaggle/kaggle.json"
      ],
      "execution_count": 0,
      "outputs": []
    },
    {
      "cell_type": "code",
      "metadata": {
        "id": "qCcr83TlXMAp",
        "colab_type": "code",
        "colab": {}
      },
      "source": [
        "!kaggle config set -n path -v{/content}"
      ],
      "execution_count": 0,
      "outputs": []
    },
    {
      "cell_type": "code",
      "metadata": {
        "id": "oJ8dkPguXMHy",
        "colab_type": "code",
        "colab": {}
      },
      "source": [
        "!chmod 600 /root/.kaggle/kaggle.json"
      ],
      "execution_count": 0,
      "outputs": []
    },
    {
      "cell_type": "markdown",
      "metadata": {
        "id": "MBQeWn9jBbRn",
        "colab_type": "text"
      },
      "source": [
        "Add folders necessary for dividing test and train data"
      ]
    },
    {
      "cell_type": "code",
      "metadata": {
        "id": "wgcJ4c9Kn-fi",
        "colab_type": "code",
        "colab": {}
      },
      "source": [
        "!mkdir /content/pracaMgr/input/"
      ],
      "execution_count": 0,
      "outputs": []
    },
    {
      "cell_type": "code",
      "metadata": {
        "id": "apkDtqobX2Je",
        "colab_type": "code",
        "colab": {}
      },
      "source": [
        "!mkdir /content/pracaMgr/input/test_v2"
      ],
      "execution_count": 0,
      "outputs": []
    },
    {
      "cell_type": "code",
      "metadata": {
        "id": "-dI2XnsrgRdy",
        "colab_type": "code",
        "colab": {}
      },
      "source": [
        "!mkdir /content/pracaMgr/input/train_v2"
      ],
      "execution_count": 0,
      "outputs": []
    },
    {
      "cell_type": "markdown",
      "metadata": {
        "id": "kW4QmsyoBUX5",
        "colab_type": "text"
      },
      "source": [
        "Download data from Kaggle using following commands:"
      ]
    },
    {
      "cell_type": "code",
      "metadata": {
        "id": "oFS0FOy2XRNg",
        "colab_type": "code",
        "colab": {}
      },
      "source": [
        "!kaggle competitions download -c airbus-ship-detection -p /content/pracaMgr/input"
      ],
      "execution_count": 0,
      "outputs": []
    },
    {
      "cell_type": "markdown",
      "metadata": {
        "id": "ziTVV8moBg7v",
        "colab_type": "text"
      },
      "source": [
        "Unpack all data to selected folder"
      ]
    },
    {
      "cell_type": "code",
      "metadata": {
        "id": "yjMVPWxLaRRM",
        "colab_type": "code",
        "colab": {}
      },
      "source": [
        "import zipfile\n",
        "zip_ref = zipfile.ZipFile(\"/content/pracaMgr/input/train_ship_segmentations_v2.csv.zip\", 'r')\n",
        "zip_ref.extractall(\"/content/pracaMgr/input/\")\n",
        "zip_ref.close()"
      ],
      "execution_count": 0,
      "outputs": []
    },
    {
      "cell_type": "code",
      "metadata": {
        "id": "XMCh7K8qZuTV",
        "colab_type": "code",
        "colab": {}
      },
      "source": [
        "zip_ref = zipfile.ZipFile(\"/content/pracaMgr/input/test_v2.zip\", 'r')\n",
        "zip_ref.extractall(\"/content/pracaMgr/input/test_v2\")\n",
        "zip_ref.close()"
      ],
      "execution_count": 0,
      "outputs": []
    },
    {
      "cell_type": "code",
      "metadata": {
        "id": "bQU-Ux4EaZuX",
        "colab_type": "code",
        "colab": {}
      },
      "source": [
        "zip_ref = zipfile.ZipFile(\"/content/pracaMgr/input/train_v2.zip\", 'r')\n",
        "zip_ref.extractall(\"/content/pracaMgr/input/train_v2\")\n",
        "zip_ref.close()"
      ],
      "execution_count": 0,
      "outputs": []
    },
    {
      "cell_type": "markdown",
      "metadata": {
        "id": "eJcXjlf9Bj5j",
        "colab_type": "text"
      },
      "source": [
        "Move unnecessary zip folders to somewhere else"
      ]
    },
    {
      "cell_type": "code",
      "metadata": {
        "id": "VcjOz0Qga1bs",
        "colab_type": "code",
        "colab": {}
      },
      "source": [
        "!mkdir /kaggle_zips"
      ],
      "execution_count": 0,
      "outputs": []
    },
    {
      "cell_type": "code",
      "metadata": {
        "id": "a_2t4JMuauCl",
        "colab_type": "code",
        "colab": {}
      },
      "source": [
        "import os\n",
        "\n",
        "os.rename(\"/content/pracaMgr/input/train_ship_segmentations_v2.csv.zip\", \"/kaggle_zips/train_ship_segmentations_v2.csv.zip\")"
      ],
      "execution_count": 0,
      "outputs": []
    },
    {
      "cell_type": "code",
      "metadata": {
        "id": "XqdZWbWna69r",
        "colab_type": "code",
        "colab": {}
      },
      "source": [
        "os.rename(\"/content/pracaMgr/input/train_v2.zip\", \"/kaggle_zips/train_v2.zip\")"
      ],
      "execution_count": 0,
      "outputs": []
    },
    {
      "cell_type": "code",
      "metadata": {
        "id": "d9SaEo7ia6um",
        "colab_type": "code",
        "colab": {}
      },
      "source": [
        "os.rename(\"/content/pracaMgr/input/test_v2.zip\", \"/kaggle_zips/test_v2.zip\")"
      ],
      "execution_count": 0,
      "outputs": []
    },
    {
      "cell_type": "markdown",
      "metadata": {
        "id": "ce_9Ky5TBpbl",
        "colab_type": "text"
      },
      "source": [
        "Using RLE algorithm take some example data for creating Bounding Boxes for training purposes"
      ]
    },
    {
      "cell_type": "code",
      "metadata": {
        "id": "IVG5OLKlbv-f",
        "colab_type": "code",
        "colab": {}
      },
      "source": [
        "!python3 /content/pracaMgr/Decoder_onlyAligned.py --no_small 100"
      ],
      "execution_count": 0,
      "outputs": []
    },
    {
      "cell_type": "code",
      "metadata": {
        "id": "5jNGidJwlGQD",
        "colab_type": "code",
        "colab": {}
      },
      "source": [
        "!python3 /content/pracaMgr/Background_decoder.py -n 10"
      ],
      "execution_count": 0,
      "outputs": []
    },
    {
      "cell_type": "code",
      "metadata": {
        "id": "3QbZF3hLBVE4",
        "colab_type": "code",
        "colab": {}
      },
      "source": [
        "!python3 /content/pracaMgr/Decoder_allShips.py --no_small 100"
      ],
      "execution_count": 0,
      "outputs": []
    },
    {
      "cell_type": "markdown",
      "metadata": {
        "id": "A4x8_LECB02c",
        "colab_type": "text"
      },
      "source": [
        "**Move it to the correct folder**\n",
        "\n"
      ]
    },
    {
      "cell_type": "code",
      "metadata": {
        "id": "0CFkLXY5sGBq",
        "colab_type": "code",
        "colab": {}
      },
      "source": [
        "import os\n",
        "if os.path.exists(\"/content/entry_data.csv\"):\n",
        "  os.rename(\"/content/entry_data.csv\", \"/content/pracaMgr/entry_data.csv\")\n",
        "  print(\"Moved\")"
      ],
      "execution_count": 0,
      "outputs": []
    },
    {
      "cell_type": "markdown",
      "metadata": {
        "id": "O7mQzb9nCGiI",
        "colab_type": "text"
      },
      "source": [
        "**Train stuff**"
      ]
    },
    {
      "cell_type": "code",
      "metadata": {
        "id": "ivex4aZxaH_Z",
        "colab_type": "code",
        "colab": {}
      },
      "source": [
        "!python3 /content/pracaMgr/train_frcnn.py simple -p /content/pracaMgr/entry_data.csv --num_epochs=40 --epoch_length 500 --num_rois 64"
      ],
      "execution_count": 0,
      "outputs": []
    },
    {
      "cell_type": "code",
      "metadata": {
        "colab_type": "code",
        "id": "xRIGgPP0GcEe",
        "colab": {}
      },
      "source": [
        "if os.path.exists(\"/content/entry_data.csv\"):\n",
        "  os.rename(\"/content/entry_data.csv\", \"/content/pracaMgr/entry_data.csv\")\n",
        "  print(\"Moved\")"
      ],
      "execution_count": 0,
      "outputs": []
    },
    {
      "cell_type": "markdown",
      "metadata": {
        "id": "COn4zM43e0jD",
        "colab_type": "text"
      },
      "source": [
        "**Move weights file**"
      ]
    },
    {
      "cell_type": "code",
      "metadata": {
        "id": "cozPMeSWxbtK",
        "colab_type": "code",
        "outputId": "d605df87-80ca-4614-9115-55d831d69498",
        "colab": {
          "base_uri": "https://localhost:8080/",
          "height": 34
        }
      },
      "source": [
        "import shutil, os\n",
        "if os.path.exists(\"/content/pracaMgr/input/weights.hdf5\"): \n",
        "  shutil.copy(\"/content/pracaMgr/input/weights.hdf5\", \"/content/weights.hdf5\")\n",
        "  print(\"Copied weights from input\")\n",
        "if os.path.exists(\"/content/pracaMgr/input/config.pickle\"): \n",
        "  shutil.copy(\"/content/pracaMgr/input/config.pickle\", \"/content/config.pickle\")\n",
        "  print(\"Copied config from input\")\n",
        "if os.path.exists(\"/content/pracaMgr/config.pickle\"): \n",
        "  shutil.copy(\"/content/pracaMgr/config.pickle\", \"/content/config.pickle\")\n",
        "  print(\"Copied config\")"
      ],
      "execution_count": 0,
      "outputs": [
        {
          "output_type": "stream",
          "text": [
            "Copied weights from input\n"
          ],
          "name": "stdout"
        }
      ]
    },
    {
      "cell_type": "markdown",
      "metadata": {
        "id": "QfH96GV8e481",
        "colab_type": "text"
      },
      "source": [
        "Pull any changes new changes, if it's necessary"
      ]
    },
    {
      "cell_type": "code",
      "metadata": {
        "id": "UQRIGQSgIO7J",
        "colab_type": "code",
        "colab": {}
      },
      "source": [
        "%cd /content/pracaMgr\n",
        "!git pull"
      ],
      "execution_count": 0,
      "outputs": []
    },
    {
      "cell_type": "markdown",
      "metadata": {
        "id": "Re1RYZKjCjWc",
        "colab_type": "text"
      },
      "source": [
        "**Test it, how it's working**"
      ]
    },
    {
      "cell_type": "code",
      "metadata": {
        "id": "0r03foe-_4U0",
        "colab_type": "code",
        "colab": {}
      },
      "source": [
        "!python3 /content/pracaMgr/test_frcnn.py --p /content/pracaMgr/input/test_v2/ --input_weight_path /content/weights.hdf5 --config_filename /content/config.pickle  --num_rois 64"
      ],
      "execution_count": 0,
      "outputs": []
    }
  ]
}